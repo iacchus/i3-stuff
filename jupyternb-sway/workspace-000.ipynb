{
 "cells": [
  {
   "cell_type": "code",
   "execution_count": 1,
   "id": "dfae822a-c2fc-4381-83de-27052c7a01cf",
   "metadata": {},
   "outputs": [],
   "source": [
    "import itertools\n",
    "import os\n",
    "import subprocess\n",
    "import sys\n",
    "\n",
    "import i3ipc"
   ]
  },
  {
   "cell_type": "code",
   "execution_count": 2,
   "id": "6e54af05-62f9-4ae4-bd6b-6be6d30375c0",
   "metadata": {},
   "outputs": [],
   "source": [
    "SWAYSOCK = os.environ['SWAYSOCK']\n",
    "SCRATCHPAD_NAME = \"__i3_scratch\""
   ]
  },
  {
   "cell_type": "code",
   "execution_count": 3,
   "id": "6839bb3d-efd2-4af0-87a7-842092a5c35b",
   "metadata": {},
   "outputs": [],
   "source": [
    "sway = i3ipc.Connection(socket_path=SWAYSOCK)"
   ]
  },
  {
   "cell_type": "code",
   "execution_count": 4,
   "id": "1b2f7bf3-2735-449c-a825-ed6068a2a70b",
   "metadata": {},
   "outputs": [],
   "source": [
    "root = sway.get_tree()"
   ]
  },
  {
   "cell_type": "code",
   "execution_count": 5,
   "id": "43de3ac3-fd17-41cf-8aed-d98f1f325e39",
   "metadata": {},
   "outputs": [],
   "source": [
    "descendants = root.descendants()\n",
    "focused = root.find_focused()"
   ]
  },
  {
   "cell_type": "code",
   "execution_count": 6,
   "id": "b32d18e7-673a-4e9b-80ea-cf1787958843",
   "metadata": {},
   "outputs": [
    {
     "name": "stdout",
     "output_type": "stream",
     "text": [
      "WORKSPACE {'id': 2147483646, 'type': 'workspace', 'orientation': 'horizontal', 'percent': None, 'urgent': False, 'marks': [], 'focused': False, 'layout': 'splith', 'border': 'none', 'current_border_width': 0, 'rect': {'x': 0, 'y': 0, 'width': 1366, 'height': 768}, 'deco_rect': {'x': 0, 'y': 0, 'width': 0, 'height': 0}, 'window_rect': {'x': 0, 'y': 0, 'width': 0, 'height': 0}, 'geometry': {'x': 0, 'y': 0, 'width': 0, 'height': 0}, 'name': '__i3_scratch', 'window': None, 'nodes': [], 'floating_nodes': [], 'focus': [], 'fullscreen_mode': 1, 'sticky': False}\n",
      "\n",
      "WORKSPACE {'id': 234, 'type': 'workspace', 'orientation': 'horizontal', 'percent': None, 'urgent': False, 'marks': [], 'focused': False, 'layout': 'splith', 'border': 'none', 'current_border_width': 0, 'rect': {'x': 0, 'y': 0, 'width': 1366, 'height': 768}, 'deco_rect': {'x': 0, 'y': 0, 'width': 0, 'height': 0}, 'window_rect': {'x': 0, 'y': 0, 'width': 0, 'height': 0}, 'geometry': {'x': 0, 'y': 0, 'width': 0, 'height': 0}, 'name': '1', 'window': None, 'nodes': [{'id': 255, 'type': 'con', 'orientation': 'none', 'percent': 1.0, 'urgent': False, 'marks': [], 'focused': True, 'layout': 'none', 'border': 'pixel', 'current_border_width': 1, 'rect': {'x': 0, 'y': 0, 'width': 1366, 'height': 768}, 'deco_rect': {'x': 0, 'y': 0, 'width': 0, 'height': 0}, 'window_rect': {'x': 1, 'y': 1, 'width': 1364, 'height': 766}, 'geometry': {'x': 0, 'y': 0, 'width': 1366, 'height': 768}, 'name': 'workspace-00… (2) - JupyterLab — Firefox Nightly', 'window': None, 'nodes': [], 'floating_nodes': [], 'focus': [], 'fullscreen_mode': 0, 'sticky': False, 'pid': 494010, 'app_id': 'firefox-nightly', 'visible': True, 'max_render_time': 0, 'shell': 'xdg_shell', 'inhibit_idle': False, 'idle_inhibitors': {'user': 'none', 'application': 'none'}}], 'floating_nodes': [], 'focus': [255], 'fullscreen_mode': 1, 'sticky': False, 'num': 1, 'output': 'eDP-1', 'representation': 'H[firefox-nightly]'}\n",
      "\n",
      "WORKSPACE {'id': 256, 'type': 'workspace', 'orientation': 'horizontal', 'percent': None, 'urgent': False, 'marks': [], 'focused': False, 'layout': 'splith', 'border': 'none', 'current_border_width': 0, 'rect': {'x': 0, 'y': 0, 'width': 1366, 'height': 768}, 'deco_rect': {'x': 0, 'y': 0, 'width': 0, 'height': 0}, 'window_rect': {'x': 0, 'y': 0, 'width': 0, 'height': 0}, 'geometry': {'x': 0, 'y': 0, 'width': 0, 'height': 0}, 'name': '2', 'window': None, 'nodes': [], 'floating_nodes': [{'id': 257, 'type': 'floating_con', 'orientation': 'none', 'percent': 0.46021306124938993, 'urgent': False, 'marks': [], 'focused': False, 'layout': 'none', 'border': 'pixel', 'current_border_width': 1, 'rect': {'x': 282, 'y': 83, 'width': 802, 'height': 602}, 'deco_rect': {'x': 0, 'y': 0, 'width': 0, 'height': 0}, 'window_rect': {'x': 1, 'y': 1, 'width': 800, 'height': 600}, 'geometry': {'x': 0, 'y': 0, 'width': 800, 'height': 600}, 'name': 'jupyter lab', 'window': None, 'nodes': [], 'floating_nodes': [], 'focus': [], 'fullscreen_mode': 0, 'sticky': False, 'pid': 496183, 'app_id': 'Alacritty', 'visible': False, 'max_render_time': 0, 'shell': 'xdg_shell', 'inhibit_idle': False, 'idle_inhibitors': {'user': 'none', 'application': 'none'}}], 'focus': [257], 'fullscreen_mode': 1, 'sticky': False, 'num': 2, 'output': 'eDP-1', 'representation': 'H[]'}\n",
      "\n"
     ]
    }
   ],
   "source": [
    "for descendant in descendants:\n",
    "    if descendant.type == \"workspace\":\n",
    "        print(\"WORKSPACE\", descendant.ipc_data,end=\"\\n\\n\")"
   ]
  },
  {
   "cell_type": "code",
   "execution_count": 7,
   "id": "0585cf8a-292d-4699-8691-65f7e0e6ed9b",
   "metadata": {},
   "outputs": [
    {
     "name": "stdout",
     "output_type": "stream",
     "text": [
      "WORKSPACE NAME: __i3_scratch\n",
      "\n",
      "WORKSPACE NAME: 1\n",
      "\n",
      "WORKSPACE NAME: 2\n",
      "\n"
     ]
    }
   ],
   "source": [
    "for descendant in descendants:\n",
    "    if descendant.type == \"workspace\":\n",
    "        print(\"WORKSPACE NAME:\", descendant.name,end=\"\\n\\n\")"
   ]
  },
  {
   "cell_type": "code",
   "execution_count": 8,
   "id": "f9a3a4b7-792e-47b4-b9ea-d717eed7e118",
   "metadata": {},
   "outputs": [
    {
     "name": "stdout",
     "output_type": "stream",
     "text": [
      "['1', '2']\n"
     ]
    }
   ],
   "source": [
    "existing_workspaces = [workspace.name for workspace in descendants if workspace.type == \"workspace\" and workspace.name != SCRATCHPAD_NAME]\n",
    "print(existing_workspaces)"
   ]
  },
  {
   "cell_type": "code",
   "execution_count": 9,
   "id": "54c519be-599f-4e38-96c4-f06ab21fba9e",
   "metadata": {},
   "outputs": [
    {
     "data": {
      "text/plain": [
       "[1, 2]"
      ]
     },
     "execution_count": 9,
     "metadata": {},
     "output_type": "execute_result"
    }
   ],
   "source": [
    "workspaces = list(map(int, existing_workspaces))\n",
    "workspaces"
   ]
  },
  {
   "cell_type": "code",
   "execution_count": 10,
   "id": "b59cf5b6-5a00-4b4f-9afd-68ae039fb01b",
   "metadata": {},
   "outputs": [
    {
     "data": {
      "text/plain": [
       "[1, 2]"
      ]
     },
     "execution_count": 10,
     "metadata": {},
     "output_type": "execute_result"
    }
   ],
   "source": [
    "workspaces.sort()\n",
    "workspaces"
   ]
  },
  {
   "cell_type": "code",
   "execution_count": 12,
   "id": "22a50e70-e24a-400c-8fdf-d4b44cf41e16",
   "metadata": {},
   "outputs": [
    {
     "data": {
      "text/plain": [
       "'1'"
      ]
     },
     "execution_count": 12,
     "metadata": {},
     "output_type": "execute_result"
    }
   ],
   "source": [
    "focused.workspace().name"
   ]
  },
  {
   "cell_type": "code",
   "execution_count": 16,
   "id": "a866f157-1ef0-45f4-b5ee-78b0528d063f",
   "metadata": {},
   "outputs": [],
   "source": [
    "def get_next_empty_workspace(workspaces: list[int]):\n",
    "    chosen = 0\n",
    "    for number in range(10):\n",
    "        if number not in workspaces:\n",
    "            chosen = number\n",
    "    return chosen"
   ]
  }
 ],
 "metadata": {
  "kernelspec": {
   "display_name": "Python 3 (ipykernel)",
   "language": "python",
   "name": "python3"
  },
  "language_info": {
   "codemirror_mode": {
    "name": "ipython",
    "version": 3
   },
   "file_extension": ".py",
   "mimetype": "text/x-python",
   "name": "python",
   "nbconvert_exporter": "python",
   "pygments_lexer": "ipython3",
   "version": "3.13.1"
  }
 },
 "nbformat": 4,
 "nbformat_minor": 5
}
