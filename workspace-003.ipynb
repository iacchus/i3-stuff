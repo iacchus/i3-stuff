{
 "cells": [
  {
   "cell_type": "code",
   "execution_count": 1,
   "id": "dfae822a-c2fc-4381-83de-27052c7a01cf",
   "metadata": {},
   "outputs": [],
   "source": [
    "import itertools\n",
    "import os\n",
    "import subprocess\n",
    "import sys\n",
    "\n",
    "import i3ipc"
   ]
  },
  {
   "cell_type": "code",
   "execution_count": 2,
   "id": "6e54af05-62f9-4ae4-bd6b-6be6d30375c0",
   "metadata": {},
   "outputs": [],
   "source": [
    "SWAYSOCK = os.environ['SWAYSOCK']\n",
    "SCRATCHPAD_NAME = \"__i3_scratch\""
   ]
  },
  {
   "cell_type": "code",
   "execution_count": 3,
   "id": "6839bb3d-efd2-4af0-87a7-842092a5c35b",
   "metadata": {},
   "outputs": [],
   "source": [
    "sway = i3ipc.Connection(socket_path=SWAYSOCK)"
   ]
  },
  {
   "cell_type": "code",
   "execution_count": 4,
   "id": "1b2f7bf3-2735-449c-a825-ed6068a2a70b",
   "metadata": {},
   "outputs": [],
   "source": [
    "root = sway.get_tree()"
   ]
  },
  {
   "cell_type": "code",
   "execution_count": 5,
   "id": "43de3ac3-fd17-41cf-8aed-d98f1f325e39",
   "metadata": {},
   "outputs": [],
   "source": [
    "descendants = root.descendants()\n",
    "focused = root.find_focused()"
   ]
  },
  {
   "cell_type": "code",
   "execution_count": 7,
   "id": "0585cf8a-292d-4699-8691-65f7e0e6ed9b",
   "metadata": {},
   "outputs": [
    {
     "name": "stdout",
     "output_type": "stream",
     "text": [
      "WORKSPACE NAME: __i3_scratch\n",
      "\n",
      "WORKSPACE NAME: 1\n",
      "\n",
      "WORKSPACE NAME: 2\n",
      "\n",
      "WORKSPACE NAME: 3\n",
      "\n"
     ]
    }
   ],
   "source": [
    "for descendant in descendants:\n",
    "    if descendant.type == \"workspace\":\n",
    "        print(\"WORKSPACE NAME:\", descendant.name,end=\"\\n\\n\")"
   ]
  },
  {
   "cell_type": "code",
   "execution_count": 8,
   "id": "f9a3a4b7-792e-47b4-b9ea-d717eed7e118",
   "metadata": {},
   "outputs": [
    {
     "name": "stdout",
     "output_type": "stream",
     "text": [
      "['1', '2', '3']\n"
     ]
    }
   ],
   "source": [
    "existing_workspaces = [workspace.name for workspace in descendants if workspace.type == \"workspace\" and workspace.name != SCRATCHPAD_NAME]\n",
    "print(existing_workspaces)"
   ]
  },
  {
   "cell_type": "code",
   "execution_count": 9,
   "id": "54c519be-599f-4e38-96c4-f06ab21fba9e",
   "metadata": {},
   "outputs": [
    {
     "data": {
      "text/plain": [
       "[1, 2, 3]"
      ]
     },
     "execution_count": 9,
     "metadata": {},
     "output_type": "execute_result"
    }
   ],
   "source": [
    "workspaces = list(map(int, existing_workspaces))\n",
    "workspaces"
   ]
  },
  {
   "cell_type": "code",
   "execution_count": 10,
   "id": "b59cf5b6-5a00-4b4f-9afd-68ae039fb01b",
   "metadata": {},
   "outputs": [
    {
     "data": {
      "text/plain": [
       "[1, 2, 3]"
      ]
     },
     "execution_count": 10,
     "metadata": {},
     "output_type": "execute_result"
    }
   ],
   "source": [
    "workspaces.sort()\n",
    "workspaces"
   ]
  },
  {
   "cell_type": "code",
   "execution_count": 11,
   "id": "22a50e70-e24a-400c-8fdf-d4b44cf41e16",
   "metadata": {},
   "outputs": [
    {
     "data": {
      "text/plain": [
       "'1'"
      ]
     },
     "execution_count": 11,
     "metadata": {},
     "output_type": "execute_result"
    }
   ],
   "source": [
    "focused.workspace().name"
   ]
  },
  {
   "cell_type": "code",
   "execution_count": 18,
   "id": "a866f157-1ef0-45f4-b5ee-78b0528d063f",
   "metadata": {},
   "outputs": [],
   "source": [
    "def get_next_empty_workspace(workspaces: list[int]):\n",
    "    first = 1\n",
    "    chosen = 0\n",
    "    for number in range(first, 11):\n",
    "        if number not in workspaces:\n",
    "            chosen = number\n",
    "            break\n",
    "    return chosen"
   ]
  },
  {
   "cell_type": "code",
   "execution_count": 19,
   "id": "7d6d62b5-4dfb-4ca8-aa7f-684e6628dd6d",
   "metadata": {},
   "outputs": [],
   "source": [
    "empty_workspace = get_next_empty_workspace(workspaces=workspaces)"
   ]
  },
  {
   "cell_type": "code",
   "execution_count": 20,
   "id": "516b8909-a947-40ca-b9fa-ead8dd98895c",
   "metadata": {},
   "outputs": [
    {
     "data": {
      "text/plain": [
       "[<i3ipc.replies.CommandReply at 0x644759e30cd0>]"
      ]
     },
     "execution_count": 20,
     "metadata": {},
     "output_type": "execute_result"
    }
   ],
   "source": [
    "sway.command(f\"workspace number {empty_workspace}\")"
   ]
  },
  {
   "cell_type": "code",
   "execution_count": null,
   "id": "6e78b3f9-4740-4cfa-a2b5-26469d2a087e",
   "metadata": {},
   "outputs": [],
   "source": [
    "# working!"
   ]
  }
 ],
 "metadata": {
  "kernelspec": {
   "display_name": "Python 3 (ipykernel)",
   "language": "python",
   "name": "python3"
  },
  "language_info": {
   "codemirror_mode": {
    "name": "ipython",
    "version": 3
   },
   "file_extension": ".py",
   "mimetype": "text/x-python",
   "name": "python",
   "nbconvert_exporter": "python",
   "pygments_lexer": "ipython3",
   "version": "3.13.1"
  }
 },
 "nbformat": 4,
 "nbformat_minor": 5
}
