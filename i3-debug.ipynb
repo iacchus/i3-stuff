{
 "cells": [
  {
   "cell_type": "code",
   "execution_count": 1,
   "id": "a0862d65-92c4-4c0e-b13d-df9c95559bf1",
   "metadata": {},
   "outputs": [],
   "source": [
    "import itertools\n",
    "import os\n",
    "import subprocess\n",
    "import sys\n",
    "\n",
    "import i3ipc"
   ]
  },
  {
   "cell_type": "code",
   "execution_count": 2,
   "id": "f51712d1-cd3c-4283-a5a9-bcaf08080363",
   "metadata": {},
   "outputs": [
    {
     "name": "stdout",
     "output_type": "stream",
     "text": [
      "None\n"
     ]
    }
   ],
   "source": [
    "#I3SOCK = os.environ['I3SOCK']\n",
    "#I3SOCK = os.environ['I3SOCK']\n",
    "\n",
    "with open(\"i3sock.txt\") as fd:\n",
    "    I3SOCK = fd.read().strip()\n",
    "\n",
    "sway = i3ipc.Connection(socket_path=I3SOCK)\n",
    "\n",
    "root = sway.get_tree()\n",
    "\n",
    "focused = root.find_focused()\n",
    "windows = root.descendants()\n",
    "\n",
    "focused_id = focused.id\n",
    "\n",
    "window_id_list = [window.id for window in windows\n",
    "                  if window.type in (\"con\", \"floating_con\")]\n",
    "\n",
    "print(focused.app_id)"
   ]
  },
  {
   "cell_type": "code",
   "execution_count": 3,
   "id": "89deabd7-1942-4c54-b9eb-1cd46185248a",
   "metadata": {},
   "outputs": [],
   "source": [
    "#if direction == \"prev\":\n",
    "#    window_id_list.reverse()\n",
    "\n",
    "window_gen = itertools.cycle(window_id_list)\n",
    "\n",
    "num_of_windows = len(window_id_list)\n",
    "all_windows = window_id_list * 2\n",
    "\n",
    "index = 0\n",
    "\n",
    "for idx, window_id in enumerate(all_windows):\n",
    "    if window_id == focused_id:\n",
    "        index = idx + 1\n",
    "        break\n",
    "\n",
    "focus_to_id = all_windows[index]\n",
    "\n",
    "sway.command(f\"[con_id={focus_to_id}] focus\")\n",
    "\n",
    "exit(0)"
   ]
  }
 ],
 "metadata": {
  "kernelspec": {
   "display_name": "Python 3 (ipykernel)",
   "language": "python",
   "name": "python3"
  },
  "language_info": {
   "codemirror_mode": {
    "name": "ipython",
    "version": 3
   },
   "file_extension": ".py",
   "mimetype": "text/x-python",
   "name": "python",
   "nbconvert_exporter": "python",
   "pygments_lexer": "ipython3",
   "version": "3.12.11"
  }
 },
 "nbformat": 4,
 "nbformat_minor": 5
}
